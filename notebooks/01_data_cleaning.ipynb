{
 "cells": [
  {
   "cell_type": "code",
   "execution_count": 1,
   "id": "5ef1e0bb-4ba1-4eda-b1d5-4d91df206d23",
   "metadata": {},
   "outputs": [
    {
     "name": "stdout",
     "output_type": "stream",
     "text": [
      "✅ Cleaned data saved to data/chembl_egfr_bioactivity_clean.csv\n"
     ]
    },
    {
     "name": "stderr",
     "output_type": "stream",
     "text": [
      "/var/folders/rv/s738gbbj79j4vf0dm4_jl8fr0000gn/T/ipykernel_8519/3342399617.py:5: DtypeWarning: Columns (27,28) have mixed types. Specify dtype option on import or set low_memory=False.\n",
      "  df = pd.read_csv(\"../data/chembl_egfr_bioactivity.csv\", sep=\";\")\n"
     ]
    }
   ],
   "source": [
    "import pandas as pd\n",
    "import numpy as np\n",
    "\n",
    "# Load with semicolon delimiter\n",
    "df = pd.read_csv(\"../data/chembl_egfr_bioactivity.csv\", sep=\";\")\n",
    "\n",
    "# Keep only rows where Standard Type is IC50 and relation is '='\n",
    "df = df[(df[\"Standard Type\"] == \"IC50\") & (df[\"Standard Relation\"] == \"'='\")]\n",
    "\n",
    "# Drop rows with missing SMILES or IC50\n",
    "df = df.dropna(subset=[\"Smiles\", \"Standard Value\"])\n",
    "\n",
    "# Convert IC50 (nM) to pIC50 = -log10(IC50 [M])\n",
    "df[\"IC50_M\"] = df[\"Standard Value\"].astype(float) * 1e-9\n",
    "df[\"pIC50_calc\"] = -np.log10(df[\"IC50_M\"])\n",
    "\n",
    "# Use existing pChEMBL Value if available, else use pIC50_calc\n",
    "df[\"pIC50\"] = df[\"pChEMBL Value\"]\n",
    "df[\"pIC50\"] = df[\"pIC50\"].fillna(df[\"pIC50_calc\"])\n",
    "\n",
    "# Select final columns\n",
    "df_clean = df[[\"Smiles\", \"Standard Value\", \"Standard Units\", \"pIC50\", \"Molecule ChEMBL ID\"]].copy()\n",
    "\n",
    "# Save cleaned version\n",
    "df_clean.to_csv(\"../data/chembl_egfr_bioactivity_clean.csv\", index=False)\n",
    "print(\"✅ Cleaned data saved to data/chembl_egfr_bioactivity_clean.csv\")\n"
   ]
  },
  {
   "cell_type": "code",
   "execution_count": null,
   "id": "3ebd3ddc-2fd6-43f4-9de8-f0ea1a7947ee",
   "metadata": {},
   "outputs": [],
   "source": []
  }
 ],
 "metadata": {
  "kernelspec": {
   "display_name": "Python 3 (ipykernel)",
   "language": "python",
   "name": "python3"
  },
  "language_info": {
   "codemirror_mode": {
    "name": "ipython",
    "version": 3
   },
   "file_extension": ".py",
   "mimetype": "text/x-python",
   "name": "python",
   "nbconvert_exporter": "python",
   "pygments_lexer": "ipython3",
   "version": "3.9.23"
  }
 },
 "nbformat": 4,
 "nbformat_minor": 5
}
